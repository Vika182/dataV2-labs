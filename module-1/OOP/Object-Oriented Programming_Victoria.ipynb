{
 "cells": [
  {
   "cell_type": "code",
   "execution_count": 134,
   "metadata": {},
   "outputs": [
    {
     "data": {
      "text/plain": [
       "[5, 6, 7, 8]"
      ]
     },
     "execution_count": 134,
     "metadata": {},
     "output_type": "execute_result"
    }
   ],
   "source": [
    "#Challenge 1\n",
    "#Remove All The Marked Elements of a List\n",
    "\n",
    "class Remove:\n",
    "\n",
    "    def remove_list(list1, list2):\n",
    "        l = [x for x in integer_list if x not in values_list]\n",
    "        return l\n",
    "\n",
    "integer_list = [1, 1, 2 ,3 ,1 ,2 ,3 ,4, 4, 3 ,5, 6, 7, 2, 8]\n",
    "values_list = [1, 3, 4, 2]\n",
    "\n",
    "Remove.remove_list(integer_list, values_list)\n"
   ]
  },
  {
   "cell_type": "code",
   "execution_count": 141,
   "metadata": {},
   "outputs": [
    {
     "data": {
      "text/plain": [
       "[(1, 7), (8, 5), (4, 0)]"
      ]
     },
     "execution_count": 141,
     "metadata": {},
     "output_type": "execute_result"
    }
   ],
   "source": [
    "#Challenge 2\n",
    "#Method For Counting Total Occurence Of Specific Digits\n",
    "\n",
    "integers_list = [-18, -31, 81, -19, 111, -888]\n",
    "digits_list = [1, 8, 4]\n",
    "\n",
    "\n",
    "class Count:\n",
    "\n",
    "    def count_spec_digits(integers_list, digits_list):\n",
    "        combined = [c for x in integers_list for c in str(x)]\n",
    "        l1 = (x for x in digits_list)\n",
    "        l2 = (combined.count(str(digit)) for digit in digits_list)\n",
    "        l3 = list(zip(l1,l2))\n",
    "        return l3\n",
    "    \n",
    "Count.count_spec_digits(integers_list, digits_list)"
   ]
  },
  {
   "cell_type": "code",
   "execution_count": 138,
   "metadata": {},
   "outputs": [
    {
     "data": {
      "text/plain": [
       "[('a', 5), ('b', 2), ('c', 1), ('d', 1), ('r', 2)]"
      ]
     },
     "execution_count": 138,
     "metadata": {},
     "output_type": "execute_result"
    }
   ],
   "source": [
    "#Challenge 3\n",
    "#Ordered Count of Characters\n",
    "\n",
    "class Count:\n",
    "        \n",
    "    def ordered_count(word):\n",
    "        s = set(word)\n",
    "        s1 = sorted(list(s))\n",
    "        l1 = (x for x in s1)\n",
    "        l2 = (word.count(x) for x in s1)\n",
    "        result = list(zip(l1,l2))\n",
    "        return result\n",
    "    \n",
    "Count.ordered_count(\"abracadabra\")\n",
    "\n",
    "#can't make it in the right order, only in alphabetical"
   ]
  },
  {
   "cell_type": "code",
   "execution_count": null,
   "metadata": {},
   "outputs": [],
   "source": []
  }
 ],
 "metadata": {
  "kernelspec": {
   "display_name": "Python 3",
   "language": "python",
   "name": "python3"
  },
  "language_info": {
   "codemirror_mode": {
    "name": "ipython",
    "version": 3
   },
   "file_extension": ".py",
   "mimetype": "text/x-python",
   "name": "python",
   "nbconvert_exporter": "python",
   "pygments_lexer": "ipython3",
   "version": "3.7.6"
  }
 },
 "nbformat": 4,
 "nbformat_minor": 2
}
